{
 "cells": [
  {
   "cell_type": "markdown",
   "metadata": {},
   "source": [
    "# Práctica Clase 1 "
   ]
  },
  {
   "cell_type": "markdown",
   "metadata": {},
   "source": [
    "1) Crear una función capaz de convertir números enteros de base 10 a base 2. Debe recibir como parámetro el número a convertir<br>\n",
    "Consideraciones:<br> \n",
    "a. Tratar de resolverlo sin usar la función format(nro,\"b\")<br>\n",
    "b. El pdf \"conversion-de-decimal-a-binario.pdf\" puede servir de ayuda.\n"
   ]
  },
  {
   "cell_type": "code",
   "execution_count": 23,
   "metadata": {},
   "outputs": [],
   "source": [
    "def NumeroBinario(numero):\n",
    "    '''\n",
    "    Esta función recibe como parámetro un número entero mayor ó igual a cero y lo devuelve en su \n",
    "    representación binaria. Debe recibir y devolver un valor de tipo entero.\n",
    "    En caso de que el parámetro no sea de tipo entero y mayor a -1 retorna nulo.\n",
    "    '''\n",
    "    listbin = []\n",
    "    if numero < 0:\n",
    "        print('Debe ingresar un número mayor que cero')\n",
    "        return None\n",
    "    if type(numero) != int:\n",
    "        print('Debe ingresar un número entero')\n",
    "        return None\n",
    "    if numero == 0 or numero == 1:\n",
    "        return numero\n",
    "    while(numero>1):\n",
    "        listbin.append(numero%2)\n",
    "        numero = numero//2\n",
    "    listbin.append(numero)\n",
    "    listbin.reverse() #  [1,1,0,0] --> \n",
    "    binario = \"\"    \n",
    "    for i in range(0,len(listbin)):\n",
    "        binario = binario + str(listbin[i])\n",
    "    return binario"
   ]
  },
  {
   "cell_type": "code",
   "execution_count": 25,
   "metadata": {},
   "outputs": [
    {
     "name": "stdout",
     "output_type": "stream",
     "text": [
      "1100\n",
      "11001\n",
      "111010\n",
      "1010010\n"
     ]
    }
   ],
   "source": [
    "#Ejemplo:\n",
    "print(NumeroBinario(12)) # Respuesta esperada: 1100\n",
    "print(NumeroBinario(25)) # Respuesta esperada: 11001\n",
    "print(NumeroBinario(58)) # Respuesta esperada: 111010\n",
    "print(NumeroBinario(82)) # Respuesta esperada: 1010010"
   ]
  },
  {
   "cell_type": "markdown",
   "metadata": {},
   "source": [
    "2) Convertir de decimal a binario las fracciones 1/2, 1/3, 1/4, 1/5, 1/6, 1/7, 1/8, 1/9. Luego analizar los resultados y observar qué particularidad se encuentra en los mismos. Se puede usar Python o una calculadora, lo importante es ver si hay algo que podemos notar..."
   ]
  },
  {
   "cell_type": "markdown",
   "metadata": {},
   "source": [
    "Salida esperada:\n",
    "* Fraccion 1 / 2 :  0.5  y En binario:  0.1\n",
    "* Fraccion 1 / 3 :  0.3333333333333333  y En binario:  0.010101010101010101010101\n",
    "* Fraccion 1 / 4 :  0.25  y En binario:  0.01\n",
    "* Fraccion 1 / 5 :  0.2  y En binario:  0.001100110011001100110011\n",
    "* Fraccion 1 / 6 :  0.16666666666666666  y En binario:  0.001010101010101010101010\n",
    "* Fraccion 1 / 7 :  0.14285714285714285  y En binario:  0.001001001001001001001001\n",
    "* Fraccion 1 / 8 :  0.125  y En binario:  0.001\n",
    "* Fraccion 1 / 9 :  0.1111111111111111  y En binario:  0.000111000111000111000111"
   ]
  },
  {
   "cell_type": "code",
   "execution_count": 1,
   "metadata": {},
   "outputs": [],
   "source": [
    "def FraccionBinario(numero):\n",
    "    if (numero > 1):\n",
    "        print(\"el numero es mayor a uno\")\n",
    "    else:\n",
    "        binario = \"0.\"\n",
    "        aux = numero\n",
    "        while (aux < 2):\n",
    "            aux = aux * 2\n",
    "            if (aux < 1):\n",
    "                binario = binario + str(0)\n",
    "            elif (aux > 1):\n",
    "                binario = binario + str(1)\n",
    "                aux = aux - 1\n",
    "            else:\n",
    "                binario = binario + str(1)\n",
    "                break\n",
    "    return binario\n"
   ]
  },
  {
   "cell_type": "code",
   "execution_count": 26,
   "metadata": {},
   "outputs": [
    {
     "name": "stdout",
     "output_type": "stream",
     "text": [
      "0.1\n",
      "0.1\n",
      "0.010101010101010101010101010101010101010101010101010101\n",
      "0.010101010101010101010101\n",
      "0.01\n",
      "0.01\n",
      "0.001100110011001100110011001100110011001100110011001101\n",
      "0.001100110011001100110011\n",
      "0.0010101010101010101010101010101010101010101010101010101\n",
      "0.001010101010101010101010\n",
      "0.001001001001001001001001001001001001001001001001001001\n",
      "0.001001001001001001001001\n",
      "0.001\n",
      "0.001\n",
      "0.000111000111000111000111000111000111000111000111000111\n",
      "0.000111000111000111000111\n"
     ]
    }
   ],
   "source": [
    "print(FraccionBinario(1/2))\n",
    "print(\"0.1\")\n",
    "print(FraccionBinario(1/3))\n",
    "print(\"0.010101010101010101010101\")\n",
    "print(FraccionBinario(1/4))\n",
    "print(\"0.01\")\n",
    "print(FraccionBinario(1/5))\n",
    "print(\"0.001100110011001100110011\")\n",
    "print(FraccionBinario(1/6))\n",
    "print(\"0.001010101010101010101010\")\n",
    "print(FraccionBinario(1/7))\n",
    "print(\"0.001001001001001001001001\")\n",
    "print(FraccionBinario(1/8))\n",
    "print(\"0.001\")\n",
    "print(FraccionBinario(1/9))\n",
    "print(\"0.000111000111000111000111\")"
   ]
  }
 ],
 "metadata": {
  "kernelspec": {
   "display_name": "Python 3",
   "language": "python",
   "name": "python3"
  },
  "language_info": {
   "codemirror_mode": {
    "name": "ipython",
    "version": 3
   },
   "file_extension": ".py",
   "mimetype": "text/x-python",
   "name": "python",
   "nbconvert_exporter": "python",
   "pygments_lexer": "ipython3",
   "version": "3.11.1"
  },
  "orig_nbformat": 4,
  "vscode": {
   "interpreter": {
    "hash": "cfc9384de22f77db93c21d1e26b8c4219c840d4f5d1b970f09c2c14515afcebd"
   }
  }
 },
 "nbformat": 4,
 "nbformat_minor": 2
}
