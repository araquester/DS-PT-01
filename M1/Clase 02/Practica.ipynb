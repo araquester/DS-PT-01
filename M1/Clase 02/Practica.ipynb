{
 "cells": [
  {
   "cell_type": "code",
   "execution_count": 1,
   "metadata": {},
   "outputs": [],
   "source": [
    "import os\n",
    "archivo = open('Emisiones_CO2.csv', 'r')"
   ]
  },
  {
   "cell_type": "code",
   "execution_count": 3,
   "metadata": {},
   "outputs": [
    {
     "name": "stdout",
     "output_type": "stream",
     "text": [
      "<_io.TextIOWrapper name='Emisiones_CO2.csv' mode='r' encoding='cp1252'>\n"
     ]
    }
   ],
   "source": [
    "print(archivo)"
   ]
  }
 ],
 "metadata": {
  "kernelspec": {
   "display_name": "Python 3",
   "language": "python",
   "name": "python3"
  },
  "language_info": {
   "codemirror_mode": {
    "name": "ipython",
    "version": 3
   },
   "file_extension": ".py",
   "mimetype": "text/x-python",
   "name": "python",
   "nbconvert_exporter": "python",
   "pygments_lexer": "ipython3",
   "version": "3.11.1"
  },
  "orig_nbformat": 4,
  "vscode": {
   "interpreter": {
    "hash": "cfc9384de22f77db93c21d1e26b8c4219c840d4f5d1b970f09c2c14515afcebd"
   }
  }
 },
 "nbformat": 4,
 "nbformat_minor": 2
}
