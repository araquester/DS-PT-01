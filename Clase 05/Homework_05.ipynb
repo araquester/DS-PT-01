{
 "cells": [
  {
   "cell_type": "markdown",
   "metadata": {},
   "source": [
    "# Práctica Clase 5"
   ]
  },
  {
   "cell_type": "markdown",
   "metadata": {},
   "source": [
    "1) Implementar un juego, que consista en apilar números enteros del 1 al 20, de forma aleatoria, para lo cual debe usarse una estructura de Pila. \n",
    "Luego, el usuario debe elegir un número de veces en que se va a quitar elementos de la pila, los cuales, sumados entre sí, no deben superar el valor de 50.\n",
    "El usuario pierde si la suma supera ese valor. Si no lo supera, gana, pero su calificación será 10 menos el número elementos que falten quitar para todavía no superar 50.\n",
    "El programa debe informar si perdió, y si ganó, con qué calificación lo hizo.\n",
    "\n",
    "Consideraciones:<br>\n",
    "a. Se puede usar la función input() para obtener una entrada de teclado.<br>\n",
    "b. Se puede usar la el modulo random para obtener valores aleatorios."
   ]
  },
  {
   "cell_type": "code",
   "execution_count": 30,
   "metadata": {},
   "outputs": [
    {
     "name": "stdout",
     "output_type": "stream",
     "text": [
      "Has perdido la suma de los numeros es: 61 y es mayor a 50\n"
     ]
    }
   ],
   "source": [
    "import random\n",
    "\n",
    "class Pila(object):\n",
    "    def __init__(self):\n",
    "        self.__list = []\n",
    "    \n",
    "    # Agregar un elemento semejante al append pero la llamaremos push\n",
    "\n",
    "    def push(self,item):\n",
    "        self.__list.append(item)\n",
    "        return \"Se ha ingresado el elemento: \",item\n",
    "\n",
    "    # Quitar un elemento, aqui si se utiliza un metodo de la lista que es pop\n",
    "    # pop naturalmente saca el ultimo elemento de la lista o arreglo\n",
    "\n",
    "    def pop(self):\n",
    "       # return \"Se ha retirado el numero: \",self.__list.pop()\n",
    "       return self.__list.pop()\n",
    "    \n",
    "    # Mostrar el elemento superior o ultimo elemento de la lista\n",
    "\n",
    "    def superior(self):\n",
    "        if self.__list:\n",
    "            return \"El ultimo elemento de la pila es: \",self.__list[-1]\n",
    "        else:\n",
    "            return \"La pila esta vacia\"\n",
    "\n",
    "    # Determinar si la Pila está vacía\n",
    "\n",
    "    def isEmpty(self):\n",
    "        if self.__list == []:\n",
    "            return \"La pila esta vacia\"\n",
    "        else:\n",
    "            return \"La pila no esta vacia\"\n",
    "\n",
    "    # Determinar el tamaño de la pila\n",
    "\n",
    "    def size(self):\n",
    "        long = len(self.__list)\n",
    "        return {f\"La pila contiene: {long} elementos\"}\n",
    "\n",
    "    # mostrar la lista\n",
    "\n",
    "    def mostrar(self):\n",
    "        return \"La pila contiene los siguientes elementos: \",self.__list\n",
    "\n",
    "limite = 50\n",
    "contador = 0\n",
    "juego_1 = Pila()\n",
    "for i in range(1,21):\n",
    "    juego_1.push(random.randint(1,21))\n",
    "# print(juego_1.mostrar())\n",
    "retirar = int(input(\"Cuantos numeros desea retirar: \"))\n",
    "suma = 0\n",
    "for j in range(0,retirar):\n",
    "    num_retirar = juego_1.pop()\n",
    "    suma = suma + num_retirar\n",
    "    # print(num_retirar,suma)\n",
    "if (suma>limite):\n",
    "    print (f\"Has perdido la suma de los numeros es: {suma} y es mayor a {limite}\")\n",
    "else:\n",
    "    while(suma<limite):\n",
    "        contador+=1\n",
    "        suma = suma + juego_1.pop()\n",
    "    print(\"Faltaron \", contador,\"numeros para llegar a 50, Has ganado y tu calificacion es: \",10-contador)\n"
   ]
  },
  {
   "cell_type": "markdown",
   "metadata": {},
   "source": [
    "2) Implementar un juego donde constas de 2 jarras, de capacidad 5 y 3 litros respectivamente, y debes colocar 4 litros en la jarra de 5L.\n",
    "Las opciones posibles son:\n",
    "* Llenar la jarra de 3 litros\n",
    "* Llenar la jarra de 5 litros\n",
    "* Vaciar la jarra de 3 litros\n",
    "* Vaciar la jarra de 5 litros\n",
    "* Verter el contenido de la jarra de 3 litros en la de 5 litros\n",
    "* Verter el contenido de la jarra de 5 litros en la de 3 litros"
   ]
  },
  {
   "cell_type": "code",
   "execution_count": 29,
   "metadata": {},
   "outputs": [],
   "source": [
    "class Juego_Jarra():\n",
    "    def __init__(self):\n",
    "        self.__jarra5 = 0\n",
    "        self.__jarra3 = 0\n",
    "    \n",
    "    def llenar(self,jarra):\n",
    "        if jarra == 3:\n",
    "            if self.__jarra3 != 0: # compruebo que la jarra no tenga nada\n",
    "                print(\"La jarra de 3 lts ya está llena!\")\n",
    "            else:\n",
    "                self.__jarra3 = 3\n",
    "                print(\"Jarra de 3 litros llenada\")\n",
    "        elif jarra == 5:\n",
    "            if self.__jarra5 != 0:\n",
    "                print(\"La jarra de 5 lts ya está llena!\")\n",
    "            else:\n",
    "                self.__jarra5 = 5\n",
    "                print(\"Jarra de 5 litros llenada\")\n",
    "        else:\n",
    "            print(\"Indique si quiere llenar la jarra 3 o la jarra 5 (ingrese el número)\")\n",
    "        \n",
    "\n",
    "    def vaciar(self,jarra):\n",
    "        if jarra == 3:\n",
    "            if self.__jarra3 == 0: # compruebo que la jarra este vacia\n",
    "                print(\"La jarra de 3 lts ya está vacia!\")\n",
    "            else:\n",
    "                self.__jarra3 = 0\n",
    "                print(\"Jarra de 3 litros vaciada\")\n",
    "        elif jarra == 5:\n",
    "            if self.__jarra5 == 0:\n",
    "                print(\"La jarra de 5 lts ya está vacia!\")\n",
    "            else:\n",
    "                self.__jarra5 = 0\n",
    "                print(\"Jarra de 5 litros vaciada\")\n",
    "        else:\n",
    "            print(\"Indique si quiere vaciar la jarra 3 o la jarra 5 (ingrese el número)\")\n",
    "\n",
    "    def consultar(self):\n",
    "        print(f\"La jarra de 3 litros contiene: {self.__jarra3} y la jarra de 5 litros contiene: {self.__jarra5}\")\n",
    "\n",
    "    def verter(self,jarra):\n",
    "        # Jarra 3 vertirla sobre la jarra de 5 vacia\n",
    "        if (jarra==3):\n",
    "            if (self.__jarra5==0): # la jarra 5 está vacia se vierte todo el contenido de la 3 en la 5\n",
    "                self.__jarra5 += self.__jarra3\n",
    "                self.__jarra3=0\n",
    "            else:\n",
    "                while(self.__jarra3!=0 and self.__jarra5<5): # mientras la jarra 3 tenga algo y jarra 5 pueda recibir que reciba\n",
    "                    self.__jarra5+=1\n",
    "                    self.__jarra3-=1\n",
    "        # Jarra 5 vertirla sobre la jarra 3\n",
    "        if(jarra==5):\n",
    "            while(self.__jarra5!=0 and self.__jarra3<3):\n",
    "                self.__jarra3+=1\n",
    "                self.__jarra5-=1\n",
    "        \n"
   ]
  },
  {
   "cell_type": "code",
   "execution_count": 35,
   "metadata": {},
   "outputs": [
    {
     "name": "stdout",
     "output_type": "stream",
     "text": [
      "Jarra de 3 litros llenada\n",
      "La jarra de 3 litros contiene: 3 y la jarra de 5 litros contiene: 0\n",
      "La jarra de 3 litros contiene: 0 y la jarra de 5 litros contiene: 3\n",
      "Jarra de 3 litros llenada\n",
      "La jarra de 3 litros contiene: 3 y la jarra de 5 litros contiene: 3\n",
      "La jarra de 3 litros contiene: 1 y la jarra de 5 litros contiene: 5\n",
      "Jarra de 5 litros vaciada\n",
      "La jarra de 3 litros contiene: 0 y la jarra de 5 litros contiene: 1\n",
      "Jarra de 3 litros llenada\n",
      "La jarra de 3 litros contiene: 0 y la jarra de 5 litros contiene: 4\n"
     ]
    }
   ],
   "source": [
    "# creo la clase jarra\n",
    "jarra = Juego_Jarra()\n",
    "# lleno la jarra de 3\n",
    "jarra.llenar(3)\n",
    "jarra.consultar()\n",
    "# vierto la jarra de 3 en la de 5\n",
    "jarra.verter(3)\n",
    "jarra.consultar()\n",
    "# vuelvo a llenar la jarra de 3\n",
    "jarra.llenar(3)\n",
    "jarra.consultar()\n",
    "# vuelvo a vertir la de 3 en la de 5\n",
    "jarra.verter(3)\n",
    "jarra.consultar()\n",
    "# se vacia la de 5 y la vuelvo a llenar con lo que hay en la de 3\n",
    "jarra.vaciar(5)\n",
    "jarra.verter(3)\n",
    "jarra.consultar()\n",
    "# llenar la de 3 y verterla en la de 5\n",
    "jarra.llenar(3)\n",
    "jarra.verter(3)\n",
    "jarra.consultar()"
   ]
  }
 ],
 "metadata": {
  "kernelspec": {
   "display_name": "Python 3",
   "language": "python",
   "name": "python3"
  },
  "language_info": {
   "codemirror_mode": {
    "name": "ipython",
    "version": 3
   },
   "file_extension": ".py",
   "mimetype": "text/x-python",
   "name": "python",
   "nbconvert_exporter": "python",
   "pygments_lexer": "ipython3",
   "version": "3.11.1"
  },
  "vscode": {
   "interpreter": {
    "hash": "cfc9384de22f77db93c21d1e26b8c4219c840d4f5d1b970f09c2c14515afcebd"
   }
  }
 },
 "nbformat": 4,
 "nbformat_minor": 4
}
