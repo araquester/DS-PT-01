{
 "cells": [
  {
   "cell_type": "code",
   "execution_count": null,
   "metadata": {},
   "outputs": [],
   "source": [
    "class Pila(object):\n",
    "    def __init__(self):\n",
    "        self.__list = []\n",
    "    \n",
    "    # Agregar un elemento semejante al append pero la llamaremos push\n",
    "\n",
    "    def push(self,item):\n",
    "        self.__list.append(item)\n",
    "        return \"Se ha ingresado el elemento: \",item\n",
    "\n",
    "    # Quitar un elemento, aqui si se utiliza un metodo de la lista que es pop\n",
    "    # pop naturalmente saca el ultimo elemento de la lista o arreglo\n",
    "\n",
    "    def pop(self):\n",
    "        return \"Se ha retirado el elemento:\",self.__list.pop()\n",
    "    \n",
    "    # Mostrar el elemento superior o ultimo elemento de la lista\n",
    "\n",
    "    def superior(self):\n",
    "        if self.__list:\n",
    "            return \"El ultimo elemento de la pila es: \",self.__list[-1]\n",
    "        else:\n",
    "            return \"La pila esta vacia\"\n",
    "\n",
    "    # Determinar si la Pila está vacía\n",
    "\n",
    "    def isEmpty(self):\n",
    "        if self.__list == []:\n",
    "            return \"La pila esta vacia\"\n",
    "        else:\n",
    "            return \"La pila no esta vacia\"\n",
    "\n",
    "    # Determinar el tamaño de la pila\n",
    "\n",
    "    def size(self):\n",
    "        long = len(self.__list)\n",
    "        return {f\"La pila contiene: {long} elementos\"}\n",
    "\n",
    "    # mostrar la lista\n",
    "\n",
    "    def mostrar(self):\n",
    "        return \"La pila contiene los siguientes elementos: \",self.__list"
   ]
  },
  {
   "cell_type": "code",
   "execution_count": 1,
   "metadata": {},
   "outputs": [],
   "source": [
    "class Cola(object):\n",
    "    def __init__(self):\n",
    "        self.__list = []\n",
    "    \n",
    "    # Agregamos un elemento a la cola\n",
    "    def enqueue(self,item):\n",
    "        self.__list.append(item)\n",
    "        return {f\"Se agrego el elemento: {item}a la cola\"}\n",
    "    \n",
    "    # Retiramos el primer elemento de la cola (ojo usamos el pop pero con indice)\n",
    "\n",
    "    def dequeue(self):\n",
    "        popeado = self.__list.pop()\n",
    "        return {f\"Se retiro el elemento: {popeado}\"}\n",
    "    \n",
    "    # Verificamos si la cola esta vacia y sino la mostramos\n",
    "\n",
    "    def isEmpty(self):\n",
    "        if (self.__list==[]):\n",
    "            return \"La cola esta vacia\"\n",
    "        else:\n",
    "            return {f\"La cola tiene los siguientes elementos: {self.__list}\"}\n",
    "    \n",
    "    def size(self):\n",
    "        long = len(self.__list)\n",
    "        return {f\"El tamaño de la cola es: {long}\"}"
   ]
  }
 ],
 "metadata": {
  "kernelspec": {
   "display_name": "Python 3",
   "language": "python",
   "name": "python3"
  },
  "language_info": {
   "codemirror_mode": {
    "name": "ipython",
    "version": 3
   },
   "file_extension": ".py",
   "mimetype": "text/x-python",
   "name": "python",
   "nbconvert_exporter": "python",
   "pygments_lexer": "ipython3",
   "version": "3.11.1"
  },
  "orig_nbformat": 4,
  "vscode": {
   "interpreter": {
    "hash": "cfc9384de22f77db93c21d1e26b8c4219c840d4f5d1b970f09c2c14515afcebd"
   }
  }
 },
 "nbformat": 4,
 "nbformat_minor": 2
}
