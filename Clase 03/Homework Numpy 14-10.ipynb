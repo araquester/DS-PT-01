{
 "cells": [
  {
   "cell_type": "markdown",
   "metadata": {},
   "source": [
    "# Práctica Clase 3"
   ]
  },
  {
   "cell_type": "markdown",
   "metadata": {
    "slideshow": {
     "slide_type": "slide"
    }
   },
   "source": [
    "## Numpy"
   ]
  },
  {
   "cell_type": "code",
   "execution_count": 1,
   "metadata": {},
   "outputs": [],
   "source": [
    "import numpy as np"
   ]
  },
  {
   "cell_type": "markdown",
   "metadata": {},
   "source": [
    "**Ejercicio 1**: Responder las siguientes preguntas:\n",
    "* ¿Qué operaciones se pueden hacer tanto en un arreglo de Numpy como en una lista? Dar un ejemplo en una celda.\n",
    "* ¿Qué operaciones se pueden hacer en un arreglo de Numpy pero NO en una lista? Explorar algunas opciones y dar un ejemplo en una celda.\n",
    "* ¿Cuál es la diferencia entre un arreglo de forma -shape- (n,), (n,1) y (1,n)? Pueden crear arreglos para intentar responder esa pregunta."
   ]
  },
  {
   "cell_type": "markdown",
   "metadata": {},
   "source": [
    "A partir de una lista podemos crear un arreglo de numpy"
   ]
  },
  {
   "cell_type": "code",
   "execution_count": 2,
   "metadata": {},
   "outputs": [
    {
     "name": "stdout",
     "output_type": "stream",
     "text": [
      "[0, 1, 2, 3, 4, 5]\n",
      "[0 1 2 3 4 5]\n"
     ]
    }
   ],
   "source": [
    "lista = [0,1,2,3,4,5]\n",
    "arreglo = np.array(lista)\n",
    "print(lista)\n",
    "print(arreglo)"
   ]
  },
  {
   "cell_type": "markdown",
   "metadata": {},
   "source": [
    "Pero para algunos casos numpy tiene funciones que crean listas más rápidamente."
   ]
  },
  {
   "cell_type": "code",
   "execution_count": 22,
   "metadata": {},
   "outputs": [
    {
     "name": "stdout",
     "output_type": "stream",
     "text": [
      "[0, 1, 2, 3, 4, 5, 6, 7]\n",
      "[0, 1, 2, 3, 4, 5, 6, 7]\n"
     ]
    }
   ],
   "source": [
    "lista = list(range(8))\n",
    "lista_2 = []\n",
    "for i in range(8):\n",
    "    lista_2.append(i)\n",
    "print(lista)\n",
    "print(lista_2)"
   ]
  },
  {
   "cell_type": "code",
   "execution_count": 3,
   "metadata": {},
   "outputs": [
    {
     "name": "stdout",
     "output_type": "stream",
     "text": [
      "[0 1 2 3 4 5 6 7]\n"
     ]
    }
   ],
   "source": [
    "arreglo = np.arange(8)\n",
    "print(arreglo)"
   ]
  },
  {
   "cell_type": "markdown",
   "metadata": {},
   "source": [
    "Algunas cosas que se pueden hacer con arreglos pero no con las listas:\n",
    "\n",
    "1. Sumarle un mismo elemento"
   ]
  },
  {
   "cell_type": "code",
   "execution_count": 24,
   "metadata": {},
   "outputs": [
    {
     "ename": "TypeError",
     "evalue": "can only concatenate list (not \"int\") to list",
     "output_type": "error",
     "traceback": [
      "\u001b[1;31m---------------------------------------------------------------------------\u001b[0m",
      "\u001b[1;31mTypeError\u001b[0m                                 Traceback (most recent call last)",
      "\u001b[1;32mc:\\Users\\PC\\Downloads\\DS-M1-main\\DS-M1-main\\Clase 03\\Homework Resuelto.ipynb Celda 11\u001b[0m in \u001b[0;36m<cell line: 1>\u001b[1;34m()\u001b[0m\n\u001b[1;32m----> <a href='vscode-notebook-cell:/c%3A/Users/PC/Downloads/DS-M1-main/DS-M1-main/Clase%2003/Homework%20Resuelto.ipynb#X13sZmlsZQ%3D%3D?line=0'>1</a>\u001b[0m lista \u001b[39m+\u001b[39;49m \u001b[39m1\u001b[39;49m\n",
      "\u001b[1;31mTypeError\u001b[0m: can only concatenate list (not \"int\") to list"
     ]
    }
   ],
   "source": [
    "lista + 1"
   ]
  },
  {
   "cell_type": "code",
   "execution_count": null,
   "metadata": {},
   "outputs": [],
   "source": [
    "arreglo += 1"
   ]
  },
  {
   "cell_type": "code",
   "execution_count": null,
   "metadata": {},
   "outputs": [
    {
     "data": {
      "text/plain": [
       "array([1, 2, 3, 4, 5, 6, 7, 8])"
      ]
     },
     "execution_count": 7,
     "metadata": {},
     "output_type": "execute_result"
    }
   ],
   "source": [
    "arreglo"
   ]
  },
  {
   "cell_type": "markdown",
   "metadata": {},
   "source": [
    "2. Elevar al cuadrado todos los elementos"
   ]
  },
  {
   "cell_type": "code",
   "execution_count": null,
   "metadata": {},
   "outputs": [
    {
     "ename": "TypeError",
     "evalue": "unsupported operand type(s) for ** or pow(): 'list' and 'int'",
     "output_type": "error",
     "traceback": [
      "\u001b[1;31m---------------------------------------------------------------------------\u001b[0m",
      "\u001b[1;31mTypeError\u001b[0m                                 Traceback (most recent call last)",
      "\u001b[1;32mc:\\Users\\PC\\Downloads\\DS-M1-main\\DS-M1-main\\Clase 03\\Homework Resuelto.ipynb Celda 15\u001b[0m in \u001b[0;36m<cell line: 1>\u001b[1;34m()\u001b[0m\n\u001b[1;32m----> <a href='vscode-notebook-cell:/c%3A/Users/PC/Downloads/DS-M1-main/DS-M1-main/Clase%2003/Homework%20Resuelto.ipynb#X20sZmlsZQ%3D%3D?line=0'>1</a>\u001b[0m lista\u001b[39m*\u001b[39;49m\u001b[39m*\u001b[39;49m\u001b[39m2\u001b[39;49m\n",
      "\u001b[1;31mTypeError\u001b[0m: unsupported operand type(s) for ** or pow(): 'list' and 'int'"
     ]
    }
   ],
   "source": [
    "lista**2"
   ]
  },
  {
   "cell_type": "code",
   "execution_count": null,
   "metadata": {},
   "outputs": [
    {
     "data": {
      "text/plain": [
       "array([ 1,  4,  9, 16, 25, 36, 49, 64])"
      ]
     },
     "execution_count": 9,
     "metadata": {},
     "output_type": "execute_result"
    }
   ],
   "source": [
    "arreglo**2"
   ]
  },
  {
   "cell_type": "markdown",
   "metadata": {},
   "source": [
    "3. Sumar todos los elementos"
   ]
  },
  {
   "cell_type": "code",
   "execution_count": null,
   "metadata": {},
   "outputs": [
    {
     "name": "stdout",
     "output_type": "stream",
     "text": [
      "36\n"
     ]
    },
    {
     "ename": "AttributeError",
     "evalue": "'list' object has no attribute 'sum'",
     "output_type": "error",
     "traceback": [
      "\u001b[1;31m---------------------------------------------------------------------------\u001b[0m",
      "\u001b[1;31mAttributeError\u001b[0m                            Traceback (most recent call last)",
      "\u001b[1;32mc:\\Users\\PC\\Downloads\\DS-M1-main\\DS-M1-main\\Clase 03\\Homework Resuelto.ipynb Celda 18\u001b[0m in \u001b[0;36m<cell line: 2>\u001b[1;34m()\u001b[0m\n\u001b[0;32m      <a href='vscode-notebook-cell:/c%3A/Users/PC/Downloads/DS-M1-main/DS-M1-main/Clase%2003/Homework%20Resuelto.ipynb#X23sZmlsZQ%3D%3D?line=0'>1</a>\u001b[0m \u001b[39mprint\u001b[39m(arreglo\u001b[39m.\u001b[39msum())\n\u001b[1;32m----> <a href='vscode-notebook-cell:/c%3A/Users/PC/Downloads/DS-M1-main/DS-M1-main/Clase%2003/Homework%20Resuelto.ipynb#X23sZmlsZQ%3D%3D?line=1'>2</a>\u001b[0m \u001b[39mprint\u001b[39m(lista\u001b[39m.\u001b[39;49msum())\n",
      "\u001b[1;31mAttributeError\u001b[0m: 'list' object has no attribute 'sum'"
     ]
    }
   ],
   "source": [
    "print(arreglo.sum())\n",
    "print(lista.sum())"
   ]
  },
  {
   "cell_type": "code",
   "execution_count": null,
   "metadata": {},
   "outputs": [
    {
     "data": {
      "text/plain": [
       "28"
      ]
     },
     "execution_count": 11,
     "metadata": {},
     "output_type": "execute_result"
    }
   ],
   "source": [
    "sum(lista)"
   ]
  },
  {
   "cell_type": "code",
   "execution_count": null,
   "metadata": {},
   "outputs": [
    {
     "name": "stdout",
     "output_type": "stream",
     "text": [
      "28\n"
     ]
    }
   ],
   "source": [
    "n = 0\n",
    "for e in lista:\n",
    "    n = n + e\n",
    "print(n)"
   ]
  },
  {
   "cell_type": "code",
   "execution_count": null,
   "metadata": {},
   "outputs": [
    {
     "data": {
      "text/plain": [
       "8"
      ]
     },
     "execution_count": 13,
     "metadata": {},
     "output_type": "execute_result"
    }
   ],
   "source": [
    "len(lista)"
   ]
  },
  {
   "cell_type": "code",
   "execution_count": 5,
   "metadata": {},
   "outputs": [
    {
     "name": "stdout",
     "output_type": "stream",
     "text": [
      "[0 1 2 3 4 5 6 7]\n"
     ]
    },
    {
     "data": {
      "text/plain": [
       "(8,)"
      ]
     },
     "execution_count": 5,
     "metadata": {},
     "output_type": "execute_result"
    }
   ],
   "source": [
    "print(arreglo)\n",
    "arreglo.shape"
   ]
  },
  {
   "cell_type": "code",
   "execution_count": 6,
   "metadata": {},
   "outputs": [
    {
     "data": {
      "text/plain": [
       "1"
      ]
     },
     "execution_count": 6,
     "metadata": {},
     "output_type": "execute_result"
    }
   ],
   "source": [
    "arreglo.ndim"
   ]
  },
  {
   "cell_type": "code",
   "execution_count": 7,
   "metadata": {},
   "outputs": [
    {
     "name": "stdout",
     "output_type": "stream",
     "text": [
      "[[1 2 3 4 5 6]\n",
      " [1 2 3 4 5 6]\n",
      " [1 2 3 4 5 6]] . Shape = (3, 6) \n",
      "\n"
     ]
    }
   ],
   "source": [
    "arreglo = np.array([[1,2,3,4,5,6],[1,2,3,4,5,6],[1,2,3,4,5,6]]) #notar los corchetes extras\n",
    "print(arreglo,'. Shape =', arreglo.shape, \"\\n\")"
   ]
  },
  {
   "cell_type": "code",
   "execution_count": null,
   "metadata": {},
   "outputs": [
    {
     "name": "stdout",
     "output_type": "stream",
     "text": [
      "[1 2 3 4 5 6] . Shape = (6,) \n",
      "\n"
     ]
    }
   ],
   "source": [
    "arreglo = np.array([1,2,3,4,5,6])\n",
    "print(arreglo,'. Shape =', arreglo.shape, \"\\n\")"
   ]
  },
  {
   "cell_type": "code",
   "execution_count": 9,
   "metadata": {},
   "outputs": [
    {
     "name": "stdout",
     "output_type": "stream",
     "text": [
      "[[1 2 3 4]\n",
      " [1 1 1 1]] . Shape = (2, 4) \n",
      "\n"
     ]
    }
   ],
   "source": [
    "arreglo = np.array([[1,2,3,4],\n",
    "                    [1,1,1,1,]]) #notar los corchetes extras\n",
    "print(arreglo,'. Shape =', arreglo.shape, \"\\n\")"
   ]
  },
  {
   "cell_type": "code",
   "execution_count": 11,
   "metadata": {},
   "outputs": [
    {
     "name": "stdout",
     "output_type": "stream",
     "text": [
      "[[1]\n",
      " [2]\n",
      " [3]\n",
      " [4]\n",
      " [5]\n",
      " [6]] . Shape = (6, 1) \n",
      "\n"
     ]
    }
   ],
   "source": [
    "arreglo = np.array([[1,2,3,4,5,6]]).T#notar los corchetes extras\n",
    "print(arreglo,'. Shape =', arreglo.shape, \"\\n\")"
   ]
  },
  {
   "cell_type": "code",
   "execution_count": null,
   "metadata": {},
   "outputs": [
    {
     "name": "stdout",
     "output_type": "stream",
     "text": [
      "Arreglo de (n,)\n",
      "[1 2 3 4 5 6] . Shape = (6,) \n",
      "\n",
      "Arreglo de (2,n)\n",
      "[[1 2 3 4 5 6]\n",
      " [1 2 3 4 5 6]] . Shape = (2, 6) \n",
      "\n",
      "Arreglo de (n,1)\n",
      "[[1]\n",
      " [2]\n",
      " [3]\n",
      " [4]\n",
      " [5]\n",
      " [6]] . Shape = (6, 1) \n",
      "\n"
     ]
    }
   ],
   "source": [
    "#¿Cuál es la diferencia entre un arreglo de forma -shape- (n,), (n,1) y (1,n)?\n",
    "\n",
    "print('Arreglo de (n,)')\n",
    "arreglo = np.array([1,2,3,4,5,6])\n",
    "print(arreglo,'. Shape =', arreglo.shape, \"\\n\") # \"\\n\" imprime un salto de linea\n",
    "\n",
    "print('Arreglo de (2,n)')\n",
    "arreglo = np.array([[1,2,3,4,5,6],[1,2,3,4,5,6]]) #notar los corchetes extras\n",
    "print(arreglo,'. Shape =', arreglo.shape, \"\\n\")\n",
    "\n",
    "print('Arreglo de (n,1)')\n",
    "arreglo = np.array([[1,2,3,4,5,6]]) #notar los corchetes extras\n",
    "print(arreglo.T,'. Shape =', arreglo.T.shape, \"\\n\")   #notar .T, que significa transpuesto\n"
   ]
  },
  {
   "cell_type": "code",
   "execution_count": null,
   "metadata": {},
   "outputs": [
    {
     "name": "stdout",
     "output_type": "stream",
     "text": [
      "[[1]\n",
      " [2]\n",
      " [3]\n",
      " [4]\n",
      " [5]\n",
      " [6]] . Shape = (6, 1)\n"
     ]
    }
   ],
   "source": [
    "### EXTRA 1###\n",
    "#Trasponer no es la unica forma de crear un arreglo de forma (n,1)'''\n",
    "arreglo = np.array([[1],[2],[3],[4],[5],[6]]) #notar los corchetes extras\n",
    "print(arreglo,'. Shape =', arreglo.shape)   #notar .T, que significa transpuesto"
   ]
  },
  {
   "cell_type": "code",
   "execution_count": 27,
   "metadata": {},
   "outputs": [
    {
     "data": {
      "text/plain": [
       "(1, 9)"
      ]
     },
     "execution_count": 27,
     "metadata": {},
     "output_type": "execute_result"
    }
   ],
   "source": [
    "a = np.arange(9).reshape(1,9)\n",
    "a.shape"
   ]
  },
  {
   "cell_type": "code",
   "execution_count": 28,
   "metadata": {},
   "outputs": [
    {
     "data": {
      "text/plain": [
       "(9, 1)"
      ]
     },
     "execution_count": 28,
     "metadata": {},
     "output_type": "execute_result"
    }
   ],
   "source": [
    "a = np.arange(9).reshape(9,1)\n",
    "a.shape"
   ]
  },
  {
   "cell_type": "code",
   "execution_count": 25,
   "metadata": {},
   "outputs": [
    {
     "data": {
      "text/plain": [
       "(9,)"
      ]
     },
     "execution_count": 25,
     "metadata": {},
     "output_type": "execute_result"
    }
   ],
   "source": [
    "a = np.arange(9)\n",
    "a.shape"
   ]
  },
  {
   "cell_type": "markdown",
   "metadata": {},
   "source": [
    "\n",
    "( n,)=vector de n elementos , \n",
    "(1,n)=una matriz de 1*n elementos \n",
    "(n,1)= 1 matrices de n*1 elementos\n"
   ]
  },
  {
   "cell_type": "code",
   "execution_count": 29,
   "metadata": {},
   "outputs": [
    {
     "name": "stdout",
     "output_type": "stream",
     "text": [
      "[0 1 2 3 4 5 6 7 8]\n"
     ]
    },
    {
     "data": {
      "text/plain": [
       "(9,)"
      ]
     },
     "execution_count": 29,
     "metadata": {},
     "output_type": "execute_result"
    }
   ],
   "source": [
    "a=np.arange(9,)\n",
    "print(a)\n",
    "a.shape\n"
   ]
  },
  {
   "cell_type": "code",
   "execution_count": 30,
   "metadata": {},
   "outputs": [
    {
     "name": "stdout",
     "output_type": "stream",
     "text": [
      "[[0 1 2 3 4 5 6 7 8]]\n"
     ]
    },
    {
     "data": {
      "text/plain": [
       "(1, 9)"
      ]
     },
     "execution_count": 30,
     "metadata": {},
     "output_type": "execute_result"
    }
   ],
   "source": [
    "b=np.arange(9).reshape(1,9)\n",
    "print(b)\n",
    "b.shape\n"
   ]
  },
  {
   "cell_type": "code",
   "execution_count": 32,
   "metadata": {},
   "outputs": [
    {
     "name": "stdout",
     "output_type": "stream",
     "text": [
      "[[[0]]\n",
      "\n",
      " [[1]]\n",
      "\n",
      " [[2]]\n",
      "\n",
      " [[3]]\n",
      "\n",
      " [[4]]\n",
      "\n",
      " [[5]]\n",
      "\n",
      " [[6]]\n",
      "\n",
      " [[7]]\n",
      "\n",
      " [[8]]]\n"
     ]
    },
    {
     "data": {
      "text/plain": [
       "(9, 1, 1)"
      ]
     },
     "execution_count": 32,
     "metadata": {},
     "output_type": "execute_result"
    }
   ],
   "source": [
    "c=np.arange(9).reshape(9,1,1)\n",
    "print(c)\n",
    "c.shape\n"
   ]
  },
  {
   "cell_type": "code",
   "execution_count": 34,
   "metadata": {},
   "outputs": [
    {
     "data": {
      "text/plain": [
       "(2, 4)"
      ]
     },
     "execution_count": 34,
     "metadata": {},
     "output_type": "execute_result"
    }
   ],
   "source": [
    "a1 = np.array([[1,2,3,4],[5,6,7,8]])\n",
    "a1.shape"
   ]
  },
  {
   "cell_type": "code",
   "execution_count": 35,
   "metadata": {},
   "outputs": [
    {
     "data": {
      "text/plain": [
       "array([[1, 2, 3, 4],\n",
       "       [5, 6, 7, 8]])"
      ]
     },
     "execution_count": 35,
     "metadata": {},
     "output_type": "execute_result"
    }
   ],
   "source": [
    "a1"
   ]
  },
  {
   "cell_type": "code",
   "execution_count": 36,
   "metadata": {},
   "outputs": [
    {
     "data": {
      "text/plain": [
       "(2, 4)"
      ]
     },
     "execution_count": 36,
     "metadata": {},
     "output_type": "execute_result"
    }
   ],
   "source": [
    "a2 = a1.copy()\n",
    "a2.shape"
   ]
  },
  {
   "cell_type": "code",
   "execution_count": 27,
   "metadata": {},
   "outputs": [
    {
     "data": {
      "text/plain": [
       "array([[1, 2, 3, 4],\n",
       "       [5, 6, 7, 8]])"
      ]
     },
     "execution_count": 27,
     "metadata": {},
     "output_type": "execute_result"
    }
   ],
   "source": [
    "a2"
   ]
  },
  {
   "cell_type": "code",
   "execution_count": 37,
   "metadata": {},
   "outputs": [
    {
     "data": {
      "text/plain": [
       "(2, 4)"
      ]
     },
     "execution_count": 37,
     "metadata": {},
     "output_type": "execute_result"
    }
   ],
   "source": [
    "a3 = a1 * a2\n",
    "a3.shape"
   ]
  },
  {
   "cell_type": "code",
   "execution_count": 38,
   "metadata": {},
   "outputs": [
    {
     "data": {
      "text/plain": [
       "(2, 4)"
      ]
     },
     "execution_count": 38,
     "metadata": {},
     "output_type": "execute_result"
    }
   ],
   "source": [
    "a3\n",
    "a3.shape"
   ]
  },
  {
   "cell_type": "code",
   "execution_count": 44,
   "metadata": {},
   "outputs": [
    {
     "data": {
      "text/plain": [
       "array([[0, 1, 2, 3, 4, 5, 6]])"
      ]
     },
     "execution_count": 44,
     "metadata": {},
     "output_type": "execute_result"
    }
   ],
   "source": [
    "np.array([[0,1,2,3,4,5,6]])"
   ]
  },
  {
   "cell_type": "code",
   "execution_count": 48,
   "metadata": {},
   "outputs": [
    {
     "data": {
      "text/plain": [
       "array([[0, 1, 2, 3, 4, 5, 6],\n",
       "       [2, 2, 2, 2, 2, 2, 2]])"
      ]
     },
     "execution_count": 48,
     "metadata": {},
     "output_type": "execute_result"
    }
   ],
   "source": [
    "np.array([[0,1,2,3,4,5,6], [2,2,2,2,2,2,2]])"
   ]
  },
  {
   "cell_type": "code",
   "execution_count": 39,
   "metadata": {},
   "outputs": [
    {
     "data": {
      "text/plain": [
       "(array([[ 1,  4,  9, 16],\n",
       "        [25, 36, 49, 64]]),\n",
       " array([[1, 2, 3, 4],\n",
       "        [5, 6, 7, 8]]),\n",
       " array([[1, 2, 3, 4],\n",
       "        [5, 6, 7, 8]]))"
      ]
     },
     "execution_count": 39,
     "metadata": {},
     "output_type": "execute_result"
    }
   ],
   "source": [
    "a3, a2, a1"
   ]
  },
  {
   "cell_type": "markdown",
   "metadata": {},
   "source": [
    "**Ejercicio 2**:\n",
    "* Escribir un arreglo con números enteros del 0 al 9. Pista: arange\n",
    "* Escribir un arreglo con 100 números equiespaciados del 0 al 9. Pista: linspace"
   ]
  },
  {
   "cell_type": "code",
   "execution_count": 12,
   "metadata": {},
   "outputs": [
    {
     "name": "stdout",
     "output_type": "stream",
     "text": [
      "[0 1 2 3 4 5 6 7 8 9]\n"
     ]
    },
    {
     "data": {
      "text/plain": [
       "[<matplotlib.lines.Line2D at 0x2a1b0acc290>]"
      ]
     },
     "execution_count": 12,
     "metadata": {},
     "output_type": "execute_result"
    },
    {
     "data": {
      "image/png": "[encoded data removed]",
      "text/plain": [
       "<Figure size 640x480 with 1 Axes>"
      ]
     },
     "metadata": {},
     "output_type": "display_data"
    }
   ],
   "source": [
    "import matplotlib.pyplot as plt\n",
    "arreglo_1 = np.arange(0,10)\n",
    "print(arreglo_1)\n",
    "plt.plot(arreglo_1, 'o')"
   ]
  },
  {
   "cell_type": "code",
   "execution_count": 51,
   "metadata": {},
   "outputs": [
    {
     "name": "stdout",
     "output_type": "stream",
     "text": [
      "[ 0.  1.  2.  3.  4.  5.  6.  7.  8.  9. 10. 11. 12. 13. 14. 15. 16. 17.\n",
      " 18. 19. 20. 21. 22. 23. 24. 25. 26. 27. 28. 29. 30. 31. 32. 33. 34. 35.\n",
      " 36. 37. 38. 39. 40. 41. 42. 43. 44. 45. 46. 47. 48. 49. 50. 51. 52. 53.\n",
      " 54. 55. 56. 57. 58. 59. 60. 61. 62. 63. 64. 65. 66. 67. 68. 69. 70. 71.\n",
      " 72. 73. 74. 75. 76. 77. 78. 79. 80. 81. 82. 83. 84. 85. 86. 87. 88. 89.\n",
      " 90. 91. 92. 93. 94. 95. 96. 97. 98. 99.]\n",
      "100\n"
     ]
    },
    {
     "data": {
      "text/plain": [
       "numpy.float64"
      ]
     },
     "execution_count": 51,
     "metadata": {},
     "output_type": "execute_result"
    },
    {
     "data": {
      "image/png": "[encoded data removed]",
      "text/plain": [
       "<Figure size 640x480 with 1 Axes>"
      ]
     },
     "metadata": {},
     "output_type": "display_data"
    }
   ],
   "source": [
    "arreglo_2 = np.linspace(0,99, 100)\n",
    "print(arreglo_2)\n",
    "print(len(arreglo_2))\n",
    "plt.plot(arreglo_2, 'o')\n",
    "type(arreglo_2[0])"
   ]
  },
  {
   "cell_type": "code",
   "execution_count": 53,
   "metadata": {},
   "outputs": [
    {
     "data": {
      "text/plain": [
       "numpy.int32"
      ]
     },
     "execution_count": 53,
     "metadata": {},
     "output_type": "execute_result"
    }
   ],
   "source": [
    "arreglo = np.linspace(0,99,100,dtype=int)\n",
    "type(arreglo[0])"
   ]
  },
  {
   "cell_type": "markdown",
   "metadata": {},
   "source": [
    "**Ejercicio 3**:\n",
    "* Escribir un arreglo con números enteros del 10 al 100 y seleccionar aquellos que son divisibles por 3<br>\n",
    "Pista: mask"
   ]
  },
  {
   "cell_type": "code",
   "execution_count": 3,
   "metadata": {},
   "outputs": [],
   "source": [
    "import numpy as np"
   ]
  },
  {
   "cell_type": "code",
   "execution_count": 4,
   "metadata": {},
   "outputs": [
    {
     "data": {
      "text/plain": [
       "array([ 10,  11,  12,  13,  14,  15,  16,  17,  18,  19,  20,  21,  22,\n",
       "        23,  24,  25,  26,  27,  28,  29,  30,  31,  32,  33,  34,  35,\n",
       "        36,  37,  38,  39,  40,  41,  42,  43,  44,  45,  46,  47,  48,\n",
       "        49,  50,  51,  52,  53,  54,  55,  56,  57,  58,  59,  60,  61,\n",
       "        62,  63,  64,  65,  66,  67,  68,  69,  70,  71,  72,  73,  74,\n",
       "        75,  76,  77,  78,  79,  80,  81,  82,  83,  84,  85,  86,  87,\n",
       "        88,  89,  90,  91,  92,  93,  94,  95,  96,  97,  98,  99, 100])"
      ]
     },
     "execution_count": 4,
     "metadata": {},
     "output_type": "execute_result"
    }
   ],
   "source": [
    "a = np.arange(10,101)\n",
    "a"
   ]
  },
  {
   "cell_type": "code",
   "execution_count": 8,
   "metadata": {},
   "outputs": [],
   "source": [
    "mascara = ((a%3)==0) #Creamos la máscara (filtro)"
   ]
  },
  {
   "cell_type": "code",
   "execution_count": 9,
   "metadata": {},
   "outputs": [
    {
     "data": {
      "text/plain": [
       "array([False, False,  True, False, False,  True, False, False,  True,\n",
       "       False, False,  True, False, False,  True, False, False,  True,\n",
       "       False, False,  True, False, False,  True, False, False,  True,\n",
       "       False, False,  True, False, False,  True, False, False,  True,\n",
       "       False, False,  True, False, False,  True, False, False,  True,\n",
       "       False, False,  True, False, False,  True, False, False,  True,\n",
       "       False, False,  True, False, False,  True, False, False,  True,\n",
       "       False, False,  True, False, False,  True, False, False,  True,\n",
       "       False, False,  True, False, False,  True, False, False,  True,\n",
       "       False, False,  True, False, False,  True, False, False,  True,\n",
       "       False])"
      ]
     },
     "execution_count": 9,
     "metadata": {},
     "output_type": "execute_result"
    }
   ],
   "source": [
    "mascara"
   ]
  },
  {
   "cell_type": "code",
   "execution_count": 10,
   "metadata": {},
   "outputs": [],
   "source": [
    "b = a[mascara]"
   ]
  },
  {
   "cell_type": "code",
   "execution_count": 13,
   "metadata": {},
   "outputs": [
    {
     "name": "stdout",
     "output_type": "stream",
     "text": [
      "[12 15 18 21 24 27 30 33 36 39 42 45 48 51 54 57 60 63 66 69 72 75 78 81\n",
      " 84 87 90 93 96 99]\n"
     ]
    },
    {
     "data": {
      "text/plain": [
       "[<matplotlib.lines.Line2D at 0x2a1b0844ad0>]"
      ]
     },
     "execution_count": 13,
     "metadata": {},
     "output_type": "execute_result"
    },
    {
     "data": {
      "image/png": "[encoded data removed]",
      "text/plain": [
       "<Figure size 640x480 with 1 Axes>"
      ]
     },
     "metadata": {},
     "output_type": "display_data"
    }
   ],
   "source": [
    "print(b)\n",
    "plt.title('Valores divisibles por 3')\n",
    "plt.plot(b, 'o')"
   ]
  },
  {
   "cell_type": "code",
   "execution_count": 14,
   "metadata": {},
   "outputs": [
    {
     "data": {
      "text/plain": [
       "array([12, 15, 18, 21, 24, 27, 30, 33, 36, 39, 42, 45, 48, 51, 54, 57, 60,\n",
       "       63, 66, 69, 72, 75, 78, 81, 84, 87, 90, 93, 96, 99])"
      ]
     },
     "execution_count": 14,
     "metadata": {},
     "output_type": "execute_result"
    }
   ],
   "source": [
    "a[(a%3)==0]"
   ]
  },
  {
   "cell_type": "markdown",
   "metadata": {},
   "source": [
    "**Ejercicio 4**:\n",
    "* Crear un arreglo de ceros de `shape` (5,10).\n",
    "* Reemplazar la segunda y cuarta fila con unos\n",
    "* Reemplazar la tercera y octava columna con dos (2)."
   ]
  },
  {
   "cell_type": "code",
   "execution_count": 15,
   "metadata": {},
   "outputs": [
    {
     "data": {
      "text/plain": [
       "array([[0, 0, 0, 0, 0, 0, 0, 0, 0, 0],\n",
       "       [0, 0, 0, 0, 0, 0, 0, 0, 0, 0],\n",
       "       [0, 0, 0, 0, 0, 0, 0, 0, 0, 0],\n",
       "       [0, 0, 0, 0, 0, 0, 0, 0, 0, 0],\n",
       "       [0, 0, 0, 0, 0, 0, 0, 0, 0, 0]])"
      ]
     },
     "execution_count": 15,
     "metadata": {},
     "output_type": "execute_result"
    }
   ],
   "source": [
    "zeros = np.zeros((5,10), dtype = int)\n",
    "zeros"
   ]
  },
  {
   "cell_type": "code",
   "execution_count": 16,
   "metadata": {},
   "outputs": [
    {
     "name": "stdout",
     "output_type": "stream",
     "text": [
      "Help on built-in function zeros in module numpy:\n",
      "\n",
      "zeros(...)\n",
      "    zeros(shape, dtype=float, order='C', *, like=None)\n",
      "    \n",
      "    Return a new array of given shape and type, filled with zeros.\n",
      "    \n",
      "    Parameters\n",
      "    ----------\n",
      "    shape : int or tuple of ints\n",
      "        Shape of the new array, e.g., ``(2, 3)`` or ``2``.\n",
      "    dtype : data-type, optional\n",
      "        The desired data-type for the array, e.g., `numpy.int8`.  Default is\n",
      "        `numpy.float64`.\n",
      "    order : {'C', 'F'}, optional, default: 'C'\n",
      "        Whether to store multi-dimensional data in row-major\n",
      "        (C-style) or column-major (Fortran-style) order in\n",
      "        memory.\n",
      "    like : array_like, optional\n",
      "        Reference object to allow the creation of arrays which are not\n",
      "        NumPy arrays. If an array-like passed in as ``like`` supports\n",
      "        the ``__array_function__`` protocol, the result will be defined\n",
      "        by it. In this case, it ensures the creation of an array object\n",
      "        compatible with that passed in via this argument.\n",
      "    \n",
      "        .. versionadded:: 1.20.0\n",
      "    \n",
      "    Returns\n",
      "    -------\n",
      "    out : ndarray\n",
      "        Array of zeros with the given shape, dtype, and order.\n",
      "    \n",
      "    See Also\n",
      "    --------\n",
      "    zeros_like : Return an array of zeros with shape and type of input.\n",
      "    empty : Return a new uninitialized array.\n",
      "    ones : Return a new array setting values to one.\n",
      "    full : Return a new array of given shape filled with value.\n",
      "    \n",
      "    Examples\n",
      "    --------\n",
      "    >>> np.zeros(5)\n",
      "    array([ 0.,  0.,  0.,  0.,  0.])\n",
      "    \n",
      "    >>> np.zeros((5,), dtype=int)\n",
      "    array([0, 0, 0, 0, 0])\n",
      "    \n",
      "    >>> np.zeros((2, 1))\n",
      "    array([[ 0.],\n",
      "           [ 0.]])\n",
      "    \n",
      "    >>> s = (2,2)\n",
      "    >>> np.zeros(s)\n",
      "    array([[ 0.,  0.],\n",
      "           [ 0.,  0.]])\n",
      "    \n",
      "    >>> np.zeros((2,), dtype=[('x', 'i4'), ('y', 'i4')]) # custom dtype\n",
      "    array([(0, 0), (0, 0)],\n",
      "          dtype=[('x', '<i4'), ('y', '<i4')])\n",
      "\n"
     ]
    }
   ],
   "source": [
    "help(np.zeros)"
   ]
  },
  {
   "cell_type": "code",
   "execution_count": 17,
   "metadata": {},
   "outputs": [
    {
     "data": {
      "text/plain": [
       "array([[0, 0, 0, 0, 0, 0, 0, 0, 0, 0],\n",
       "       [1, 1, 1, 1, 1, 1, 1, 1, 1, 1],\n",
       "       [0, 0, 0, 0, 0, 0, 0, 0, 0, 0],\n",
       "       [1, 1, 1, 1, 1, 1, 1, 1, 1, 1],\n",
       "       [0, 0, 0, 0, 0, 0, 0, 0, 0, 0]])"
      ]
     },
     "execution_count": 17,
     "metadata": {},
     "output_type": "execute_result"
    }
   ],
   "source": [
    "zeros[[1,3],:] = 1\n",
    "zeros"
   ]
  },
  {
   "cell_type": "code",
   "execution_count": 87,
   "metadata": {},
   "outputs": [
    {
     "data": {
      "text/plain": [
       "array([[55, 55, 55, 55, 55, 55, 55, 55, 55, 55],\n",
       "       [55, 99, 99,  1,  1,  1,  1, 99,  1,  1],\n",
       "       [77, 77, 77, 77, 77, 77, 77, 77, 77, 77],\n",
       "       [77, 77, 77, 77, 77, 77, 77, 77, 77, 77],\n",
       "       [77, 77, 77, 77, 77, 77, 77, 77, 77, 77]])"
      ]
     },
     "execution_count": 87,
     "metadata": {},
     "output_type": "execute_result"
    }
   ],
   "source": [
    "zeros[2:,::]=77\n",
    "zeros"
   ]
  },
  {
   "cell_type": "code",
   "execution_count": 80,
   "metadata": {},
   "outputs": [
    {
     "data": {
      "text/plain": [
       "array([[0., 0., 1., 0., 0., 0., 0., 1., 0., 0.],\n",
       "       [1., 1., 1., 1., 1., 1., 1., 1., 1., 1.],\n",
       "       [0., 0., 1., 0., 0., 0., 0., 1., 0., 0.],\n",
       "       [1., 1., 1., 1., 1., 1., 1., 1., 1., 1.],\n",
       "       [0., 0., 1., 0., 0., 0., 0., 1., 0., 0.]])"
      ]
     },
     "execution_count": 80,
     "metadata": {},
     "output_type": "execute_result"
    }
   ],
   "source": [
    "arr = np.zeros([5,10])\n",
    "arr[1]=1\n",
    "arr[3]=1\n",
    "arr[:,2]=1\n",
    "arr[:,7]=1\n",
    "arr"
   ]
  },
  {
   "cell_type": "code",
   "execution_count": 77,
   "metadata": {},
   "outputs": [
    {
     "data": {
      "text/plain": [
       "array([[99, 99, 99,  8,  8,  8,  8, 99,  8,  8],\n",
       "       [99, 99, 99,  1,  1,  1,  1, 99,  1,  1],\n",
       "       [99, 99, 99,  0,  0,  0,  0, 99,  0,  0],\n",
       "       [99, 99, 99,  1,  1,  1,  1, 99,  1,  1],\n",
       "       [99, 99, 99,  0,  0,  0,  0, 99,  0,  0]])"
      ]
     },
     "execution_count": 77,
     "metadata": {},
     "output_type": "execute_result"
    }
   ],
   "source": [
    "zeros[:,[0]] = 99\n",
    "zeros"
   ]
  },
  {
   "cell_type": "markdown",
   "metadata": {},
   "source": [
    "**Ejercicio $\\infty$**:\n",
    "Hacer todos los ejercicios que puedan del siguiente link https://www.machinelearningplus.com/python/101-numpy-exercises-python/\n",
    "\n",
    "O de https://github.com/rougier/numpy-100"
   ]
  },
  {
   "cell_type": "markdown",
   "metadata": {},
   "source": [
    "Para explorar las funciones de creación de datos aleatorios:\n",
    "https://numpy.org/doc/stable/reference/random/legacy.html"
   ]
  },
  {
   "cell_type": "code",
   "execution_count": 92,
   "metadata": {},
   "outputs": [
    {
     "data": {
      "text/plain": [
       "array([[[0.12635939, 0.08426432, 0.45280049],\n",
       "        [0.34913566, 0.55384271, 0.43784762]],\n",
       "\n",
       "       [[0.60526526, 0.99837521, 0.53024327],\n",
       "        [0.79667633, 0.44038139, 0.58359838]],\n",
       "\n",
       "       [[0.71633061, 0.1470363 , 0.51072237],\n",
       "        [0.32619479, 0.60837316, 0.33483977]],\n",
       "\n",
       "       [[0.09394144, 0.2340122 , 0.50366504],\n",
       "        [0.2237486 , 0.31045065, 0.96190146]]])"
      ]
     },
     "execution_count": 92,
     "metadata": {},
     "output_type": "execute_result"
    }
   ],
   "source": [
    "np.random.random((4,2,3)) "
   ]
  },
  {
   "cell_type": "code",
   "execution_count": 93,
   "metadata": {},
   "outputs": [
    {
     "data": {
      "text/plain": [
       "array([[ 0.55004123, -2.11957076,  0.30380649],\n",
       "       [ 0.13683848,  0.65386426,  0.13103715],\n",
       "       [-0.58382836, -0.33951167,  0.02613147]])"
      ]
     },
     "execution_count": 93,
     "metadata": {},
     "output_type": "execute_result"
    }
   ],
   "source": [
    "np.random.randn(9).reshape(3,3)"
   ]
  },
  {
   "cell_type": "code",
   "execution_count": 69,
   "metadata": {},
   "outputs": [
    {
     "data": {
      "text/plain": [
       "array([[[193.69266   , 160.66443708, 177.22018017],\n",
       "        [191.35869577, 175.68600125, 183.42065492]],\n",
       "\n",
       "       [[105.62284778, 156.66814788, 184.32743297],\n",
       "        [142.54411386, 140.42136591, 152.06870404]],\n",
       "\n",
       "       [[185.03582256, 159.17170397, 177.50000495],\n",
       "        [127.80806325, 159.68362159, 151.66138505]],\n",
       "\n",
       "       [[110.94350203, 138.80543683, 136.165909  ],\n",
       "        [179.03427907, 154.57259965, 124.06875495]]])"
      ]
     },
     "execution_count": 69,
     "metadata": {},
     "output_type": "execute_result"
    }
   ],
   "source": [
    "a = np.random.random((4,2,3)) * 100 + 100\n",
    "a"
   ]
  },
  {
   "cell_type": "code",
   "execution_count": 103,
   "metadata": {},
   "outputs": [
    {
     "data": {
      "text/plain": [
       "array([[[0.24373323, 0.87606792, 0.36764513],\n",
       "        [0.96642556, 0.12896479, 0.21136188]],\n",
       "\n",
       "       [[0.83746607, 0.53470966, 0.67785577],\n",
       "        [0.60415633, 0.79938298, 0.27355187]],\n",
       "\n",
       "       [[0.90036255, 0.36549817, 0.61305978],\n",
       "        [0.60450309, 0.74767281, 0.08296074]],\n",
       "\n",
       "       [[0.76278171, 0.22894137, 0.72196405],\n",
       "        [0.60536657, 0.99234197, 0.85357028]]])"
      ]
     },
     "execution_count": 103,
     "metadata": {},
     "output_type": "execute_result"
    }
   ],
   "source": [
    "a = np.random.random((4,2,3))\n",
    "a"
   ]
  },
  {
   "cell_type": "code",
   "execution_count": 71,
   "metadata": {},
   "outputs": [
    {
     "data": {
      "text/plain": [
       "array([[  10,  -56, -106,  100,    5,   50],\n",
       "       [   5,   20,   30,   40,   50,    0],\n",
       "       [   5,   20,   30,   40,   50,    0],\n",
       "       [   5,   20,   30,   40,   50,    0]], dtype=int8)"
      ]
     },
     "execution_count": 71,
     "metadata": {},
     "output_type": "execute_result"
    }
   ],
   "source": [
    "a = np.array([[10,200,150,100,5,50],[5,20,30,40,50,0],[5,20,30,40,50,0],[5,20,30,40,50,0]], dtype=np.int8)\n",
    "a"
   ]
  },
  {
   "cell_type": "code",
   "execution_count": 72,
   "metadata": {},
   "outputs": [
    {
     "data": {
      "text/plain": [
       "18.25"
      ]
     },
     "execution_count": 72,
     "metadata": {},
     "output_type": "execute_result"
    }
   ],
   "source": [
    "a.mean()"
   ]
  },
  {
   "cell_type": "code",
   "execution_count": 73,
   "metadata": {},
   "outputs": [
    {
     "data": {
      "text/plain": [
       "438"
      ]
     },
     "execution_count": 73,
     "metadata": {},
     "output_type": "execute_result"
    }
   ],
   "source": [
    "a.sum()"
   ]
  },
  {
   "cell_type": "code",
   "execution_count": 74,
   "metadata": {},
   "outputs": [
    {
     "data": {
      "text/plain": [
       "38.33976395336831"
      ]
     },
     "execution_count": 74,
     "metadata": {},
     "output_type": "execute_result"
    }
   ],
   "source": [
    "a.std()"
   ]
  },
  {
   "cell_type": "code",
   "execution_count": 75,
   "metadata": {},
   "outputs": [
    {
     "data": {
      "text/plain": [
       "array([[-106,  -56,    5,   10,   50,  100],\n",
       "       [   0,    5,   20,   30,   40,   50],\n",
       "       [   0,    5,   20,   30,   40,   50],\n",
       "       [   0,    5,   20,   30,   40,   50]], dtype=int8)"
      ]
     },
     "execution_count": 75,
     "metadata": {},
     "output_type": "execute_result"
    }
   ],
   "source": [
    "a.sort(axis=1)\n",
    "a"
   ]
  },
  {
   "cell_type": "code",
   "execution_count": 76,
   "metadata": {},
   "outputs": [
    {
     "name": "stdout",
     "output_type": "stream",
     "text": [
      "Help on function sort in module numpy:\n",
      "\n",
      "sort(a, axis=-1, kind=None, order=None)\n",
      "    Return a sorted copy of an array.\n",
      "    \n",
      "    Parameters\n",
      "    ----------\n",
      "    a : array_like\n",
      "        Array to be sorted.\n",
      "    axis : int or None, optional\n",
      "        Axis along which to sort. If None, the array is flattened before\n",
      "        sorting. The default is -1, which sorts along the last axis.\n",
      "    kind : {'quicksort', 'mergesort', 'heapsort', 'stable'}, optional\n",
      "        Sorting algorithm. The default is 'quicksort'. Note that both 'stable'\n",
      "        and 'mergesort' use timsort or radix sort under the covers and, in general,\n",
      "        the actual implementation will vary with data type. The 'mergesort' option\n",
      "        is retained for backwards compatibility.\n",
      "    \n",
      "        .. versionchanged:: 1.15.0.\n",
      "           The 'stable' option was added.\n",
      "    \n",
      "    order : str or list of str, optional\n",
      "        When `a` is an array with fields defined, this argument specifies\n",
      "        which fields to compare first, second, etc.  A single field can\n",
      "        be specified as a string, and not all fields need be specified,\n",
      "        but unspecified fields will still be used, in the order in which\n",
      "        they come up in the dtype, to break ties.\n",
      "    \n",
      "    Returns\n",
      "    -------\n",
      "    sorted_array : ndarray\n",
      "        Array of the same type and shape as `a`.\n",
      "    \n",
      "    See Also\n",
      "    --------\n",
      "    ndarray.sort : Method to sort an array in-place.\n",
      "    argsort : Indirect sort.\n",
      "    lexsort : Indirect stable sort on multiple keys.\n",
      "    searchsorted : Find elements in a sorted array.\n",
      "    partition : Partial sort.\n",
      "    \n",
      "    Notes\n",
      "    -----\n",
      "    The various sorting algorithms are characterized by their average speed,\n",
      "    worst case performance, work space size, and whether they are stable. A\n",
      "    stable sort keeps items with the same key in the same relative\n",
      "    order. The four algorithms implemented in NumPy have the following\n",
      "    properties:\n",
      "    \n",
      "    =========== ======= ============= ============ ========\n",
      "       kind      speed   worst case    work space   stable\n",
      "    =========== ======= ============= ============ ========\n",
      "    'quicksort'    1     O(n^2)            0          no\n",
      "    'heapsort'     3     O(n*log(n))       0          no\n",
      "    'mergesort'    2     O(n*log(n))      ~n/2        yes\n",
      "    'timsort'      2     O(n*log(n))      ~n/2        yes\n",
      "    =========== ======= ============= ============ ========\n",
      "    \n",
      "    .. note:: The datatype determines which of 'mergesort' or 'timsort'\n",
      "       is actually used, even if 'mergesort' is specified. User selection\n",
      "       at a finer scale is not currently available.\n",
      "    \n",
      "    All the sort algorithms make temporary copies of the data when\n",
      "    sorting along any but the last axis.  Consequently, sorting along\n",
      "    the last axis is faster and uses less space than sorting along\n",
      "    any other axis.\n",
      "    \n",
      "    The sort order for complex numbers is lexicographic. If both the real\n",
      "    and imaginary parts are non-nan then the order is determined by the\n",
      "    real parts except when they are equal, in which case the order is\n",
      "    determined by the imaginary parts.\n",
      "    \n",
      "    Previous to numpy 1.4.0 sorting real and complex arrays containing nan\n",
      "    values led to undefined behaviour. In numpy versions >= 1.4.0 nan\n",
      "    values are sorted to the end. The extended sort order is:\n",
      "    \n",
      "      * Real: [R, nan]\n",
      "      * Complex: [R + Rj, R + nanj, nan + Rj, nan + nanj]\n",
      "    \n",
      "    where R is a non-nan real value. Complex values with the same nan\n",
      "    placements are sorted according to the non-nan part if it exists.\n",
      "    Non-nan values are sorted as before.\n",
      "    \n",
      "    .. versionadded:: 1.12.0\n",
      "    \n",
      "    quicksort has been changed to `introsort <https://en.wikipedia.org/wiki/Introsort>`_.\n",
      "    When sorting does not make enough progress it switches to\n",
      "    `heapsort <https://en.wikipedia.org/wiki/Heapsort>`_.\n",
      "    This implementation makes quicksort O(n*log(n)) in the worst case.\n",
      "    \n",
      "    'stable' automatically chooses the best stable sorting algorithm\n",
      "    for the data type being sorted.\n",
      "    It, along with 'mergesort' is currently mapped to\n",
      "    `timsort <https://en.wikipedia.org/wiki/Timsort>`_\n",
      "    or `radix sort <https://en.wikipedia.org/wiki/Radix_sort>`_\n",
      "    depending on the data type.\n",
      "    API forward compatibility currently limits the\n",
      "    ability to select the implementation and it is hardwired for the different\n",
      "    data types.\n",
      "    \n",
      "    .. versionadded:: 1.17.0\n",
      "    \n",
      "    Timsort is added for better performance on already or nearly\n",
      "    sorted data. On random data timsort is almost identical to\n",
      "    mergesort. It is now used for stable sort while quicksort is still the\n",
      "    default sort if none is chosen. For timsort details, refer to\n",
      "    `CPython listsort.txt <https://github.com/python/cpython/blob/3.7/Objects/listsort.txt>`_.\n",
      "    'mergesort' and 'stable' are mapped to radix sort for integer data types. Radix sort is an\n",
      "    O(n) sort instead of O(n log n).\n",
      "    \n",
      "    .. versionchanged:: 1.18.0\n",
      "    \n",
      "    NaT now sorts to the end of arrays for consistency with NaN.\n",
      "    \n",
      "    Examples\n",
      "    --------\n",
      "    >>> a = np.array([[1,4],[3,1]])\n",
      "    >>> np.sort(a)                # sort along the last axis\n",
      "    array([[1, 4],\n",
      "           [1, 3]])\n",
      "    >>> np.sort(a, axis=None)     # sort the flattened array\n",
      "    array([1, 1, 3, 4])\n",
      "    >>> np.sort(a, axis=0)        # sort along the first axis\n",
      "    array([[1, 1],\n",
      "           [3, 4]])\n",
      "    \n",
      "    Use the `order` keyword to specify a field to use when sorting a\n",
      "    structured array:\n",
      "    \n",
      "    >>> dtype = [('name', 'S10'), ('height', float), ('age', int)]\n",
      "    >>> values = [('Arthur', 1.8, 41), ('Lancelot', 1.9, 38),\n",
      "    ...           ('Galahad', 1.7, 38)]\n",
      "    >>> a = np.array(values, dtype=dtype)       # create a structured array\n",
      "    >>> np.sort(a, order='height')                        # doctest: +SKIP\n",
      "    array([('Galahad', 1.7, 38), ('Arthur', 1.8, 41),\n",
      "           ('Lancelot', 1.8999999999999999, 38)],\n",
      "          dtype=[('name', '|S10'), ('height', '<f8'), ('age', '<i4')])\n",
      "    \n",
      "    Sort by age, then height if ages are equal:\n",
      "    \n",
      "    >>> np.sort(a, order=['age', 'height'])               # doctest: +SKIP\n",
      "    array([('Galahad', 1.7, 38), ('Lancelot', 1.8999999999999999, 38),\n",
      "           ('Arthur', 1.8, 41)],\n",
      "          dtype=[('name', '|S10'), ('height', '<f8'), ('age', '<i4')])\n",
      "\n"
     ]
    }
   ],
   "source": [
    "help(np.sort)"
   ]
  },
  {
   "cell_type": "code",
   "execution_count": 77,
   "metadata": {},
   "outputs": [
    {
     "data": {
      "text/plain": [
       "array([[-106,  -56,    5,   10,   40,   50],\n",
       "       [   0,    5,   20,   30,   40,   50],\n",
       "       [   0,    5,   20,   30,   40,   50],\n",
       "       [   0,    5,   20,   30,   50,  100]], dtype=int8)"
      ]
     },
     "execution_count": 77,
     "metadata": {},
     "output_type": "execute_result"
    }
   ],
   "source": [
    "a.sort(axis = 0)\n",
    "a"
   ]
  },
  {
   "cell_type": "code",
   "execution_count": 78,
   "metadata": {},
   "outputs": [
    {
     "data": {
      "text/plain": [
       "array([[ 0,  5, 20],\n",
       "       [ 0,  5, 20]], dtype=int8)"
      ]
     },
     "execution_count": 78,
     "metadata": {},
     "output_type": "execute_result"
    }
   ],
   "source": [
    "a[1:3,0:3]"
   ]
  },
  {
   "cell_type": "code",
   "execution_count": 79,
   "metadata": {},
   "outputs": [],
   "source": [
    "l =   [[ 10, 200,  30,  45,   5, 100],\n",
    "       [  5,  20,  30,  40,  50,   0],\n",
    "       [  5,  20,  30,  40,  50,   0],\n",
    "       [  5,  20,  30,  40,  50,   0]]"
   ]
  },
  {
   "cell_type": "code",
   "execution_count": 81,
   "metadata": {},
   "outputs": [
    {
     "data": {
      "text/plain": [
       "array([[[ 10, 200,  30,  45,   5, 100],\n",
       "        [  5,  20,  30,  40,  50,   0],\n",
       "        [  5,  20,  30,  40,  50,   0],\n",
       "        [  5,  20,  30,  40,  50,   0]]])"
      ]
     },
     "execution_count": 81,
     "metadata": {},
     "output_type": "execute_result"
    }
   ],
   "source": [
    "a = np.array([l])\n",
    "a"
   ]
  },
  {
   "cell_type": "code",
   "execution_count": 82,
   "metadata": {},
   "outputs": [
    {
     "data": {
      "text/plain": [
       "(1, 4, 6)"
      ]
     },
     "execution_count": 82,
     "metadata": {},
     "output_type": "execute_result"
    }
   ],
   "source": [
    "a.shape"
   ]
  },
  {
   "cell_type": "code",
   "execution_count": 85,
   "metadata": {},
   "outputs": [
    {
     "data": {
      "text/plain": [
       "array([ 10, 200,  30,  45,   5, 100,   5,  20,  30,  40,  50,   0,   5,\n",
       "        20,  30,  40,  50,   0,   5,  20,  30,  40,  50,   0])"
      ]
     },
     "execution_count": 85,
     "metadata": {},
     "output_type": "execute_result"
    }
   ],
   "source": [
    "a.reshape(24)"
   ]
  },
  {
   "cell_type": "code",
   "execution_count": 99,
   "metadata": {},
   "outputs": [
    {
     "data": {
      "text/plain": [
       "matrix([[1, 2, 3, 4, 5, 6]])"
      ]
     },
     "execution_count": 99,
     "metadata": {},
     "output_type": "execute_result"
    }
   ],
   "source": [
    "a = np.matrix([[1,2,3,4,5,6]]) \n",
    "a"
   ]
  },
  {
   "cell_type": "code",
   "execution_count": 100,
   "metadata": {},
   "outputs": [
    {
     "data": {
      "text/plain": [
       "matrix([[1],\n",
       "        [2],\n",
       "        [3],\n",
       "        [4],\n",
       "        [5]])"
      ]
     },
     "execution_count": 100,
     "metadata": {},
     "output_type": "execute_result"
    }
   ],
   "source": [
    "b = np.matrix([[1],[2],[3],[4],[5]])\n",
    "b"
   ]
  },
  {
   "cell_type": "code",
   "execution_count": 101,
   "metadata": {},
   "outputs": [
    {
     "data": {
      "text/plain": [
       "((1, 6), (5, 1))"
      ]
     },
     "execution_count": 101,
     "metadata": {},
     "output_type": "execute_result"
    }
   ],
   "source": [
    "a.shape, b.shape"
   ]
  },
  {
   "cell_type": "code",
   "execution_count": 102,
   "metadata": {},
   "outputs": [
    {
     "ename": "ValueError",
     "evalue": "shapes (1,6) and (5,1) not aligned: 6 (dim 1) != 5 (dim 0)",
     "output_type": "error",
     "traceback": [
      "\u001b[1;31m---------------------------------------------------------------------------\u001b[0m",
      "\u001b[1;31mValueError\u001b[0m                                Traceback (most recent call last)",
      "Cell \u001b[1;32mIn [102], line 1\u001b[0m\n\u001b[1;32m----> 1\u001b[0m c \u001b[39m=\u001b[39m a \u001b[39m*\u001b[39;49m b \n\u001b[0;32m      2\u001b[0m c\n",
      "File \u001b[1;32m~\\AppData\\Local\\Packages\\PythonSoftwareFoundation.Python.3.9_qbz5n2kfra8p0\\LocalCache\\local-packages\\Python39\\site-packages\\numpy\\matrixlib\\defmatrix.py:218\u001b[0m, in \u001b[0;36mmatrix.__mul__\u001b[1;34m(self, other)\u001b[0m\n\u001b[0;32m    215\u001b[0m \u001b[39mdef\u001b[39;00m \u001b[39m__mul__\u001b[39m(\u001b[39mself\u001b[39m, other):\n\u001b[0;32m    216\u001b[0m     \u001b[39mif\u001b[39;00m \u001b[39misinstance\u001b[39m(other, (N\u001b[39m.\u001b[39mndarray, \u001b[39mlist\u001b[39m, \u001b[39mtuple\u001b[39m)) :\n\u001b[0;32m    217\u001b[0m         \u001b[39m# This promotes 1-D vectors to row vectors\u001b[39;00m\n\u001b[1;32m--> 218\u001b[0m         \u001b[39mreturn\u001b[39;00m N\u001b[39m.\u001b[39;49mdot(\u001b[39mself\u001b[39;49m, asmatrix(other))\n\u001b[0;32m    219\u001b[0m     \u001b[39mif\u001b[39;00m isscalar(other) \u001b[39mor\u001b[39;00m \u001b[39mnot\u001b[39;00m \u001b[39mhasattr\u001b[39m(other, \u001b[39m'\u001b[39m\u001b[39m__rmul__\u001b[39m\u001b[39m'\u001b[39m) :\n\u001b[0;32m    220\u001b[0m         \u001b[39mreturn\u001b[39;00m N\u001b[39m.\u001b[39mdot(\u001b[39mself\u001b[39m, other)\n",
      "File \u001b[1;32m<__array_function__ internals>:5\u001b[0m, in \u001b[0;36mdot\u001b[1;34m(*args, **kwargs)\u001b[0m\n",
      "\u001b[1;31mValueError\u001b[0m: shapes (1,6) and (5,1) not aligned: 6 (dim 1) != 5 (dim 0)"
     ]
    }
   ],
   "source": [
    "c = a * b \n",
    "c"
   ]
  },
  {
   "cell_type": "code",
   "execution_count": 94,
   "metadata": {},
   "outputs": [
    {
     "name": "stdout",
     "output_type": "stream",
     "text": [
      "[[ 1  2  3  4  5  6]\n",
      " [ 2  4  6  8 10 12]\n",
      " [ 3  6  9 12 15 18]\n",
      " [ 4  8 12 16 20 24]\n",
      " [ 5 10 15 20 25 30]\n",
      " [ 6 12 18 24 30 36]]\n"
     ]
    }
   ],
   "source": [
    "d = b * a \n",
    "print(d)"
   ]
  },
  {
   "cell_type": "code",
   "execution_count": 95,
   "metadata": {},
   "outputs": [],
   "source": [
    "arreglo_a = np.arange(12).reshape(4,3)\n",
    "arreglo_b = np.arange(12).reshape(4,3)"
   ]
  },
  {
   "cell_type": "code",
   "execution_count": 98,
   "metadata": {},
   "outputs": [
    {
     "data": {
      "text/plain": [
       "array([[ 42,  48,  54],\n",
       "       [114, 136, 158],\n",
       "       [186, 224, 262]])"
      ]
     },
     "execution_count": 98,
     "metadata": {},
     "output_type": "execute_result"
    }
   ],
   "source": [
    "from operator import matmul\n",
    "\n",
    "\n",
    "matmul(arreglo_a,arreglo_b)"
   ]
  },
  {
   "cell_type": "code",
   "execution_count": null,
   "metadata": {},
   "outputs": [],
   "source": []
  }
 ],
 "metadata": {
  "kernelspec": {
   "display_name": "Python 3",
   "language": "python",
   "name": "python3"
  },
  "language_info": {
   "codemirror_mode": {
    "name": "ipython",
    "version": 3
   },
   "file_extension": ".py",
   "mimetype": "text/x-python",
   "name": "python",
   "nbconvert_exporter": "python",
   "pygments_lexer": "ipython3",
   "version": "3.11.1"
  },
  "vscode": {
   "interpreter": {
    "hash": "cfc9384de22f77db93c21d1e26b8c4219c840d4f5d1b970f09c2c14515afcebd"
   }
  }
 },
 "nbformat": 4,
 "nbformat_minor": 4
}
