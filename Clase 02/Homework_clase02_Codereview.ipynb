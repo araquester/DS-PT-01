{
 "cells": [
  {
   "cell_type": "code",
   "execution_count": 7,
   "metadata": {},
   "outputs": [],
   "source": [
    "import os\n",
    "archivo = open('Emisiones_CO2.csv', 'r')"
   ]
  },
  {
   "attachments": {},
   "cell_type": "markdown",
   "metadata": {},
   "source": [
    "La notacion de emisiones es relativa, pero puedo usar el path para ubicar el archivo en cualquier parte que este. \n",
    "\"..\\Clase 01\\Emisiones_CO2_2.csv\" Con lo dos puntos salimos de donde estamos y nos vamos a la carpeta del archivo \n",
    "\n",
    "archivo = open(r\"..\\Clase 01\\Emisiones_CO2_2.csv\",\"r\")\n",
    "si le pongo esa r toma la cadena literalmente y me puedo ahorrar algun error como el salto de linea \\n \n",
    "\n",
    "\"..\\Clase 01\\Emisiones_CO2_2.csv\" || tambien puedo usar los dobles lineas"
   ]
  },
  {
   "cell_type": "code",
   "execution_count": 2,
   "metadata": {},
   "outputs": [
    {
     "data": {
      "text/plain": [
       "<_io.TextIOWrapper name='Emisiones_CO2.csv' mode='r' encoding='cp1252'>"
      ]
     },
     "execution_count": 2,
     "metadata": {},
     "output_type": "execute_result"
    }
   ],
   "source": [
    "archivo\n",
    "'''\n",
    "TextIOWrapper -> es la forma en que el maneja el archivo, como archivo de texto\n",
    "'''"
   ]
  },
  {
   "cell_type": "code",
   "execution_count": 3,
   "metadata": {},
   "outputs": [
    {
     "data": {
      "text/plain": [
       "'Código de país|Nombre del país|Región|Año|CO2 (kt)|CO2 per cápita (toneladas métricas)\\n'"
      ]
     },
     "execution_count": 3,
     "metadata": {},
     "output_type": "execute_result"
    }
   ],
   "source": [
    "next(archivo)   \n",
    "# Saltamos la primer linea porque hay estan son los titulos de las columnas"
   ]
  },
  {
   "cell_type": "code",
   "execution_count": 5,
   "metadata": {},
   "outputs": [],
   "source": [
    "dicc_emisiones = {  'cod_pais' : [],\n",
    "                    'nom_pais' : [],\n",
    "                    'region' : [],\n",
    "                    'anio' : [],\n",
    "                    'co2_kt' : [],\n",
    "                    'co2_percapita' : []}\n",
    "# Aprovecho que me muestra la primera linea y tomo los titulos para hacer el diccionario\n"
   ]
  },
  {
   "cell_type": "code",
   "execution_count": 8,
   "metadata": {},
   "outputs": [
    {
     "name": "stdout",
     "output_type": "stream",
     "text": [
      "'Código de país|Nombre del país|Región|Año|CO2 (kt)|CO2 per cápita (toneladas métricas)\\n'\n"
     ]
    }
   ],
   "source": [
    "for linea in archivo:\n",
    "    print(repr(linea))\n",
    "    # Representacion literal de como esta escrita la linea y se puede ver que hay un salto de linea\n",
    "    break"
   ]
  }
 ],
 "metadata": {
  "kernelspec": {
   "display_name": "Python 3",
   "language": "python",
   "name": "python3"
  },
  "language_info": {
   "codemirror_mode": {
    "name": "ipython",
    "version": 3
   },
   "file_extension": ".py",
   "mimetype": "text/x-python",
   "name": "python",
   "nbconvert_exporter": "python",
   "pygments_lexer": "ipython3",
   "version": "3.11.1"
  },
  "orig_nbformat": 4,
  "vscode": {
   "interpreter": {
    "hash": "cfc9384de22f77db93c21d1e26b8c4219c840d4f5d1b970f09c2c14515afcebd"
   }
  }
 },
 "nbformat": 4,
 "nbformat_minor": 2
}
