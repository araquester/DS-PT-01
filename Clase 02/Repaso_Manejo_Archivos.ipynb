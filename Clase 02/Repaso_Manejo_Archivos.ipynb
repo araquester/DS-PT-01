{
 "cells": [
  {
   "cell_type": "code",
   "execution_count": 2,
   "metadata": {},
   "outputs": [
    {
     "name": "stdout",
     "output_type": "stream",
     "text": [
      "Respuesta Incorrecta\n"
     ]
    }
   ],
   "source": [
    "Nmo = int(input(\"Cual es el doble de 3?: \"))\n",
    "if (Nmo == 6):\n",
    "    print(\"Respuesta Correcta\")\n",
    "else:\n",
    "    print(\"Respuesta Incorrecta\")"
   ]
  },
  {
   "cell_type": "code",
   "execution_count": 12,
   "metadata": {},
   "outputs": [],
   "source": [
    "import os\n",
    "\n",
    "lineas_archivo = ['Esto es un archivo de ejemplo','Segunda Linea','Tercera Linea']\n",
    "archivo = open('datos.txt', 'w') # la w es para escibir (write)\n",
    "for linea in lineas_archivo:\n",
    "    archivo.write(linea+'\\n')\n",
    "archivo.close() # Se cierra el archivo sino el sistema interpreta que todavia esta abierto por algun programa\n"
   ]
  },
  {
   "cell_type": "code",
   "execution_count": 13,
   "metadata": {},
   "outputs": [
    {
     "name": "stdout",
     "output_type": "stream",
     "text": [
      "Esto es un archivo de ejemplo\n",
      "\n",
      "Segunda Linea\n",
      "\n",
      "Tercera Linea\n",
      "\n"
     ]
    }
   ],
   "source": [
    "archivo = open('datos.txt', 'r') # la r es para leer (read)\n",
    "for linea in archivo:\n",
    "    print(linea)\n",
    "archivo.close()"
   ]
  },
  {
   "cell_type": "code",
   "execution_count": 14,
   "metadata": {},
   "outputs": [],
   "source": [
    "import os\n",
    "os.makedirs('Carpeta_prueba')\n"
   ]
  },
  {
   "cell_type": "code",
   "execution_count": 15,
   "metadata": {},
   "outputs": [
    {
     "data": {
      "text/plain": [
       "['Carpeta_prueba',\n",
       " 'Clase 02 - M1.pdf',\n",
       " 'Code review 2 en clase + codigo de estudiantesHomework.ipynb',\n",
       " 'Datos.txt',\n",
       " 'Emisiones_CO2.csv',\n",
       " 'Homework.ipynb',\n",
       " 'Practica.ipynb',\n",
       " 'README.json',\n",
       " 'README.md',\n",
       " 'Repaso_Manejo_Archivos.ipynb']"
      ]
     },
     "execution_count": 15,
     "metadata": {},
     "output_type": "execute_result"
    }
   ],
   "source": [
    "os.listdir('./')"
   ]
  },
  {
   "cell_type": "code",
   "execution_count": 16,
   "metadata": {},
   "outputs": [
    {
     "data": {
      "text/plain": [
       "'d:\\\\Mauricio\\\\Estudio\\\\DS-PT-01\\\\M1\\\\Clase 02'"
      ]
     },
     "execution_count": 16,
     "metadata": {},
     "output_type": "execute_result"
    }
   ],
   "source": [
    "os.getcwd()"
   ]
  }
 ],
 "metadata": {
  "kernelspec": {
   "display_name": "Python 3",
   "language": "python",
   "name": "python3"
  },
  "language_info": {
   "codemirror_mode": {
    "name": "ipython",
    "version": 3
   },
   "file_extension": ".py",
   "mimetype": "text/x-python",
   "name": "python",
   "nbconvert_exporter": "python",
   "pygments_lexer": "ipython3",
   "version": "3.11.1"
  },
  "orig_nbformat": 4,
  "vscode": {
   "interpreter": {
    "hash": "cfc9384de22f77db93c21d1e26b8c4219c840d4f5d1b970f09c2c14515afcebd"
   }
  }
 },
 "nbformat": 4,
 "nbformat_minor": 2
}
